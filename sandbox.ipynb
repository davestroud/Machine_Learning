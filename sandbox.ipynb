{
 "cells": [
  {
   "cell_type": "code",
   "execution_count": null,
   "metadata": {},
   "outputs": [],
   "source": [
    "import numpy as np\n",
    "\n",
    "# Calculate the interquartile range\n",
    "q25, q50, q75 = np.percentile(data, [25, 50, 75])\n",
    "iqr = q75 - q25\n",
    "\n",
    "# Calculate the min / max limits to be considered an outlier\n",
    "min = q25 - 1.5*(iqr)\n",
    "max = q75 + 1.5*(iqr)\n",
    "\n",
    "print(min, q25, q50, q75, max)"
   ]
  },
  {
   "cell_type": "code",
   "execution_count": null,
   "metadata": {},
   "outputs": [],
   "source": [
    "# Identify the points\n",
    "[x for x in data['Unemployment'] if x > max]"
   ]
  }
 ],
 "metadata": {
  "kernelspec": {
   "display_name": "Python 3.9.12 ('base')",
   "language": "python",
   "name": "python3"
  },
  "language_info": {
   "name": "python",
   "version": "3.9.12"
  },
  "orig_nbformat": 4,
  "vscode": {
   "interpreter": {
    "hash": "b73bb41a67bc0fd303bfc63e3de4dbe19c7e1ed5d53baec3e75ed3aca0670e16"
   }
  }
 },
 "nbformat": 4,
 "nbformat_minor": 2
}
